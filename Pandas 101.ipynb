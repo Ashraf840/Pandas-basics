{
 "cells": [
  {
   "cell_type": "markdown",
   "id": "ee8fc4d7",
   "metadata": {},
   "source": [
    "## Edureka \n",
    "\n",
    "**Ref: https://www.youtube.com/watch?v=UB3DE5Bgfx4**\n",
    "\n",
    "`NB: (YT Title) -- Python Pandas Tutorial | Data Analysis with Python Pandas | Python Training | Edureka`\n",
    "\n",
    "\n",
    "#### Agenda\n",
    "+ Introduction to Pandas\n",
    "+ Dataframes & Series\n",
    "+ How to view data?\n",
    "+ Selecting Data\n",
    "+ Handling Missing Data\n",
    "+ Pandas Operations\n",
    "+ Merge, Group & Reshape Data\n",
    "+ Time Series & Categoricals\n",
    "+ Plotting using Pandas"
   ]
  },
  {
   "cell_type": "markdown",
   "id": "8a00128a",
   "metadata": {},
   "source": [
    "**Usecases of Pandas:**\n",
    "+ economics\n",
    "+ stock predictions\n",
    "+ recommendation systems\n",
    "+ neuro-science\n",
    "+ statistics\n",
    "+ can be used for advertising"
   ]
  },
  {
   "cell_type": "markdown",
   "id": "0d3ec805",
   "metadata": {},
   "source": [
    "Two of the most integrated parts of Pandas are:\n",
    "1. Dataframe\n",
    "2. Series\n",
    "\n",
    "> Definition of **Dataframe**: a two-dimensional, size-mutable, potentially heterogeneous tabular data. <br/>\n",
    "&nbsp;&nbsp;&nbsp;&nbsp;&nbsp;&nbsp;&nbsp;&nbsp;\n",
    "`pandas.DataFrame(data=None, index=None, columns=None, dtype=None, copy=None)` <br/>\n",
    "\n",
    "> Definition of **Series**: one-dimensional labelled array capable of holding data of any type. <br/>\n",
    "&nbsp;&nbsp;&nbsp;&nbsp;&nbsp;&nbsp;&nbsp;&nbsp;\n",
    "`pandas.Series(array, index, dtype, name, copy, values, size, hasnans, memory_usage([index, deep]))`\n",
    "\n",
    " <br/>\n",
    "\n",
    "[NB]: Series assign indicies with every values from the python's list/tuple, but not with set type data."
   ]
  },
  {
   "cell_type": "code",
   "execution_count": 2,
   "id": "b2fd6cbf",
   "metadata": {},
   "outputs": [],
   "source": [
    "import pandas as pd\n",
    "import numpy as np"
   ]
  },
  {
   "cell_type": "code",
   "execution_count": 19,
   "id": "c1dfdc4e",
   "metadata": {
    "scrolled": true
   },
   "outputs": [
    {
     "data": {
      "text/plain": [
       "2022-04-02    1.0\n",
       "2022-04-03    2.0\n",
       "2022-04-04    3.0\n",
       "2022-04-05    4.0\n",
       "2022-04-06    5.0\n",
       "2022-04-07    6.0\n",
       "2022-04-08    NaN\n",
       "2022-04-09    7.0\n",
       "dtype: float64"
      ]
     },
     "execution_count": 19,
     "metadata": {},
     "output_type": "execute_result"
    }
   ],
   "source": [
    "# create a series manually\n",
    "list_var = [1,2,3,4,5,6,np.nan,7]\n",
    "s= pd.Series(list_var, index=[pd.date_range('20220402', periods=8)])\n",
    "s"
   ]
  },
  {
   "cell_type": "code",
   "execution_count": 13,
   "id": "28170c54",
   "metadata": {},
   "outputs": [
    {
     "data": {
      "text/plain": [
       "DatetimeIndex(['2022-04-02', '2022-04-03', '2022-04-04', '2022-04-05',\n",
       "               '2022-04-06', '2022-04-07', '2022-04-08', '2022-04-09',\n",
       "               '2022-04-10', '2022-04-11'],\n",
       "              dtype='datetime64[ns]', freq='D')"
      ]
     },
     "execution_count": 13,
     "metadata": {},
     "output_type": "execute_result"
    }
   ],
   "source": [
    "# populates a date-range of 10 consecutive dates starting from \"02 March, 2022\"\n",
    "d = pd.date_range('20220402', periods=10) # populates 10 consecutive dates from \"2 March, 2022\"\n",
    "d"
   ]
  },
  {
   "cell_type": "code",
   "execution_count": 12,
   "id": "deb1dff5",
   "metadata": {},
   "outputs": [
    {
     "data": {
      "text/plain": [
       "array([[-0.8681373 , -0.45302135, -0.90581098, -0.16005717],\n",
       "       [ 0.60205859,  0.49542359,  0.32660274, -0.58896524],\n",
       "       [ 0.60294495, -1.37773496, -0.45624974, -1.49111595],\n",
       "       [ 0.52591276,  0.86354085, -0.83283382,  0.82158628],\n",
       "       [ 1.21933649,  0.51320728, -1.15663766,  0.82077322],\n",
       "       [ 0.7854078 , -0.32425282,  0.91271905, -0.73428955],\n",
       "       [-0.5911044 ,  1.30692527, -0.41831827,  1.28448261],\n",
       "       [ 1.01696513, -1.31206945, -1.4412261 , -1.30231951],\n",
       "       [-0.57847601, -0.19225266, -1.30346843,  2.50351278],\n",
       "       [-0.07984346, -0.07269122,  1.04702417,  0.16653507]])"
      ]
     },
     "execution_count": 12,
     "metadata": {},
     "output_type": "execute_result"
    }
   ],
   "source": [
    "# create a numpy array which contains a list of 10 elems & each elem (array) contains 4 sub-elems.\n",
    "# Syntax:  x = np.random.randn((num_of_main_list_elem, num_of_sub_list_elem))\n",
    "x_rand = np.random.randn(10,4)\n",
    "x_rand"
   ]
  },
  {
   "cell_type": "code",
   "execution_count": 23,
   "id": "15855598",
   "metadata": {},
   "outputs": [
    {
     "data": {
      "text/html": [
       "<div>\n",
       "<style scoped>\n",
       "    .dataframe tbody tr th:only-of-type {\n",
       "        vertical-align: middle;\n",
       "    }\n",
       "\n",
       "    .dataframe tbody tr th {\n",
       "        vertical-align: top;\n",
       "    }\n",
       "\n",
       "    .dataframe thead th {\n",
       "        text-align: right;\n",
       "    }\n",
       "</style>\n",
       "<table border=\"1\" class=\"dataframe\">\n",
       "  <thead>\n",
       "    <tr style=\"text-align: right;\">\n",
       "      <th></th>\n",
       "      <th>a</th>\n",
       "      <th>b</th>\n",
       "      <th>c</th>\n",
       "      <th>d</th>\n",
       "    </tr>\n",
       "  </thead>\n",
       "  <tbody>\n",
       "    <tr>\n",
       "      <th>2022-04-02</th>\n",
       "      <td>-0.868137</td>\n",
       "      <td>-0.453021</td>\n",
       "      <td>-0.905811</td>\n",
       "      <td>-0.160057</td>\n",
       "    </tr>\n",
       "    <tr>\n",
       "      <th>2022-04-03</th>\n",
       "      <td>0.602059</td>\n",
       "      <td>0.495424</td>\n",
       "      <td>0.326603</td>\n",
       "      <td>-0.588965</td>\n",
       "    </tr>\n",
       "    <tr>\n",
       "      <th>2022-04-04</th>\n",
       "      <td>0.602945</td>\n",
       "      <td>-1.377735</td>\n",
       "      <td>-0.456250</td>\n",
       "      <td>-1.491116</td>\n",
       "    </tr>\n",
       "    <tr>\n",
       "      <th>2022-04-05</th>\n",
       "      <td>0.525913</td>\n",
       "      <td>0.863541</td>\n",
       "      <td>-0.832834</td>\n",
       "      <td>0.821586</td>\n",
       "    </tr>\n",
       "    <tr>\n",
       "      <th>2022-04-06</th>\n",
       "      <td>1.219336</td>\n",
       "      <td>0.513207</td>\n",
       "      <td>-1.156638</td>\n",
       "      <td>0.820773</td>\n",
       "    </tr>\n",
       "    <tr>\n",
       "      <th>2022-04-07</th>\n",
       "      <td>0.785408</td>\n",
       "      <td>-0.324253</td>\n",
       "      <td>0.912719</td>\n",
       "      <td>-0.734290</td>\n",
       "    </tr>\n",
       "    <tr>\n",
       "      <th>2022-04-08</th>\n",
       "      <td>-0.591104</td>\n",
       "      <td>1.306925</td>\n",
       "      <td>-0.418318</td>\n",
       "      <td>1.284483</td>\n",
       "    </tr>\n",
       "    <tr>\n",
       "      <th>2022-04-09</th>\n",
       "      <td>1.016965</td>\n",
       "      <td>-1.312069</td>\n",
       "      <td>-1.441226</td>\n",
       "      <td>-1.302320</td>\n",
       "    </tr>\n",
       "    <tr>\n",
       "      <th>2022-04-10</th>\n",
       "      <td>-0.578476</td>\n",
       "      <td>-0.192253</td>\n",
       "      <td>-1.303468</td>\n",
       "      <td>2.503513</td>\n",
       "    </tr>\n",
       "    <tr>\n",
       "      <th>2022-04-11</th>\n",
       "      <td>-0.079843</td>\n",
       "      <td>-0.072691</td>\n",
       "      <td>1.047024</td>\n",
       "      <td>0.166535</td>\n",
       "    </tr>\n",
       "  </tbody>\n",
       "</table>\n",
       "</div>"
      ],
      "text/plain": [
       "                   a         b         c         d\n",
       "2022-04-02 -0.868137 -0.453021 -0.905811 -0.160057\n",
       "2022-04-03  0.602059  0.495424  0.326603 -0.588965\n",
       "2022-04-04  0.602945 -1.377735 -0.456250 -1.491116\n",
       "2022-04-05  0.525913  0.863541 -0.832834  0.821586\n",
       "2022-04-06  1.219336  0.513207 -1.156638  0.820773\n",
       "2022-04-07  0.785408 -0.324253  0.912719 -0.734290\n",
       "2022-04-08 -0.591104  1.306925 -0.418318  1.284483\n",
       "2022-04-09  1.016965 -1.312069 -1.441226 -1.302320\n",
       "2022-04-10 -0.578476 -0.192253 -1.303468  2.503513\n",
       "2022-04-11 -0.079843 -0.072691  1.047024  0.166535"
      ]
     },
     "execution_count": 23,
     "metadata": {},
     "output_type": "execute_result"
    }
   ],
   "source": [
    "# create a datafram using a numpy array with the datetime-index & labelled columns (a custom list)\n",
    "col_names = ['a','b','c','d']\n",
    "df = pd.DataFrame(x_rand, index=d, columns=col_names)\n",
    "df"
   ]
  },
  {
   "cell_type": "code",
   "execution_count": 24,
   "id": "dede158b",
   "metadata": {
    "scrolled": true
   },
   "outputs": [
    {
     "data": {
      "text/html": [
       "<div>\n",
       "<style scoped>\n",
       "    .dataframe tbody tr th:only-of-type {\n",
       "        vertical-align: middle;\n",
       "    }\n",
       "\n",
       "    .dataframe tbody tr th {\n",
       "        vertical-align: top;\n",
       "    }\n",
       "\n",
       "    .dataframe thead th {\n",
       "        text-align: right;\n",
       "    }\n",
       "</style>\n",
       "<table border=\"1\" class=\"dataframe\">\n",
       "  <thead>\n",
       "    <tr style=\"text-align: right;\">\n",
       "      <th></th>\n",
       "      <th>A</th>\n",
       "      <th>B</th>\n",
       "    </tr>\n",
       "  </thead>\n",
       "  <tbody>\n",
       "    <tr>\n",
       "      <th>0</th>\n",
       "      <td>1</td>\n",
       "      <td>2022-04-02</td>\n",
       "    </tr>\n",
       "    <tr>\n",
       "      <th>1</th>\n",
       "      <td>2</td>\n",
       "      <td>2022-04-02</td>\n",
       "    </tr>\n",
       "    <tr>\n",
       "      <th>2</th>\n",
       "      <td>3</td>\n",
       "      <td>2022-04-02</td>\n",
       "    </tr>\n",
       "    <tr>\n",
       "      <th>3</th>\n",
       "      <td>4</td>\n",
       "      <td>2022-04-02</td>\n",
       "    </tr>\n",
       "  </tbody>\n",
       "</table>\n",
       "</div>"
      ],
      "text/plain": [
       "   A          B\n",
       "0  1 2022-04-02\n",
       "1  2 2022-04-02\n",
       "2  3 2022-04-02\n",
       "3  4 2022-04-02"
      ]
     },
     "execution_count": 24,
     "metadata": {},
     "output_type": "execute_result"
    }
   ],
   "source": [
    "# create a datafram using a python dictionary\n",
    "dict_data = {\n",
    "    'A': [1,2,3,4],\n",
    "    'B': pd.Timestamp('20220402'), # create the date \"2022-04-02\" same as the size of the dataframe\n",
    "    'C': \n",
    "}\n",
    "df2 = pd.DataFrame(dict_data)\n",
    "df2\n",
    "\n",
    "# [NB]: Create a fixed pandas-dateTime-object & it'll automatically replicate the date \"2022-04-02\" as long as the size of the dataframe.\n",
    "# pd.timestamp => Pandas replacement for python datetime.datetime object."
   ]
  },
  {
   "cell_type": "markdown",
   "id": "dd85e7f6",
   "metadata": {},
   "source": [
    "### Timestamp of YT Video: 11:41"
   ]
  },
  {
   "cell_type": "code",
   "execution_count": null,
   "id": "7045cdff",
   "metadata": {},
   "outputs": [],
   "source": []
  },
  {
   "cell_type": "code",
   "execution_count": null,
   "id": "6e18f080",
   "metadata": {},
   "outputs": [],
   "source": []
  },
  {
   "cell_type": "code",
   "execution_count": null,
   "id": "99c8666c",
   "metadata": {},
   "outputs": [],
   "source": []
  },
  {
   "cell_type": "code",
   "execution_count": null,
   "id": "687d4a43",
   "metadata": {},
   "outputs": [],
   "source": []
  },
  {
   "cell_type": "code",
   "execution_count": null,
   "id": "540f0f2f",
   "metadata": {},
   "outputs": [],
   "source": []
  },
  {
   "cell_type": "code",
   "execution_count": null,
   "id": "bb71a544",
   "metadata": {},
   "outputs": [],
   "source": []
  },
  {
   "cell_type": "code",
   "execution_count": null,
   "id": "f7a8d149",
   "metadata": {},
   "outputs": [],
   "source": []
  },
  {
   "cell_type": "code",
   "execution_count": null,
   "id": "88fcc6be",
   "metadata": {},
   "outputs": [],
   "source": []
  },
  {
   "cell_type": "code",
   "execution_count": null,
   "id": "84c3d3ce",
   "metadata": {},
   "outputs": [],
   "source": []
  },
  {
   "cell_type": "code",
   "execution_count": null,
   "id": "daa40e65",
   "metadata": {},
   "outputs": [],
   "source": []
  },
  {
   "cell_type": "code",
   "execution_count": null,
   "id": "a73e0094",
   "metadata": {},
   "outputs": [],
   "source": []
  },
  {
   "cell_type": "code",
   "execution_count": null,
   "id": "11f7a3ca",
   "metadata": {},
   "outputs": [],
   "source": []
  }
 ],
 "metadata": {
  "kernelspec": {
   "display_name": "Python 3 (ipykernel)",
   "language": "python",
   "name": "python3"
  },
  "language_info": {
   "codemirror_mode": {
    "name": "ipython",
    "version": 3
   },
   "file_extension": ".py",
   "mimetype": "text/x-python",
   "name": "python",
   "nbconvert_exporter": "python",
   "pygments_lexer": "ipython3",
   "version": "3.9.7"
  }
 },
 "nbformat": 4,
 "nbformat_minor": 5
}

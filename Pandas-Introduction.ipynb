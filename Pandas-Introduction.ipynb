{
 "cells": [
  {
   "cell_type": "markdown",
   "id": "fd918d5e",
   "metadata": {},
   "source": [
    "# \"Edureka\""
   ]
  },
  {
   "cell_type": "code",
   "execution_count": null,
   "id": "eb0f68b0",
   "metadata": {},
   "outputs": [],
   "source": [
    "# Ref: https://www.youtube.com/watch?v=UB3DE5Bgfx4"
   ]
  },
  {
   "cell_type": "markdown",
   "id": "9657d16d",
   "metadata": {},
   "source": [
    "## DataFrame  \n",
    "> **A dataframe is a two dimensional, size-mutable, potentially heterogeneous tabular data.** <br/>\n",
    "    Heterogeneous: Not uniform in structure or composition\n"
   ]
  },
  {
   "cell_type": "markdown",
   "id": "b6532e3e",
   "metadata": {},
   "source": [
    "### Data Types in Pandas\n",
    "float------------------------------float64 <br/>\n",
    "int--------------------------------int64 <br/>\n",
    "datetime---------------------------datetime64 <br/>\n",
    "string/Mixed-----------------------------object <br/>\n",
    "boolean-----------------------------bool <br/>\n",
    "\"Diff between 2 datetimes\"-----------------------------timedelta <br/>\n",
    "Finite list of text values-----------------------------category <br/>\n",
    "\n",
    "[NB]: Features like gender, country, and codes are always repetitive. These are the examples for categorical data."
   ]
  },
  {
   "cell_type": "code",
   "execution_count": 2,
   "id": "c7972532",
   "metadata": {},
   "outputs": [],
   "source": [
    "import pandas as pd\n",
    "import numpy as np"
   ]
  },
  {
   "cell_type": "markdown",
   "id": "f0b2d85a",
   "metadata": {},
   "source": [
    "## Pandas Series (Intro)\n",
    "\n",
    "> One-dimensional ndarray with axis labels (including time series) <br/>\n",
    "    Series are equivalent of python's **List**.\n",
    "\n",
    "`pandas.Series(data=None, index=None, dtype=None, name=None, copy=False, fastpath=False)` <br/>\n",
    "    data = Provide an array-like data/ list to produce a pandas series. <br/>\n",
    "    index = Provide an array-like data/ list to produce an index along with the series. <br/>\n",
    "    dtype= Return the dtype object of the underlying data. <br/>\n",
    "    name = The name to give to the Series. <br/>"
   ]
  },
  {
   "cell_type": "code",
   "execution_count": null,
   "id": "64231113",
   "metadata": {
    "scrolled": true
   },
   "outputs": [],
   "source": [
    "index = ['a','b','c','d','e','f','g','h','i','j']\n",
    "# s = pd.Series([1,2,3,4,5,6,np.nan,8,9,10], index=index) # define custom-made index\n",
    "s = pd.Series([1,2,3,4,5,6,np.nan,8,9,10], index=index, name='Test', dtype='str')\n",
    "s"
   ]
  },
  {
   "cell_type": "code",
   "execution_count": null,
   "id": "0f0929ff",
   "metadata": {},
   "outputs": [],
   "source": [
    "print(type(s))"
   ]
  },
  {
   "cell_type": "markdown",
   "id": "f73906a0",
   "metadata": {},
   "source": [
    "## Pandas date_range()\n",
    "\n",
    "> Generates a range of dates from the **specified starting-date**.\n",
    "\n",
    "`pandas.date_range(start=None, end=None, periods=None, freq=None, tz=None, normalize=False, name=None, closed=None, **kwargs)`\n",
    "\n",
    "**start=None** will specify the starting of the date-series. <br/>\n",
    "**end=None** will specify the ending of the date-series. <br/>\n",
    "**periods=None** will specify the number of elems (rows) in the date-series. <br/>"
   ]
  },
  {
   "cell_type": "code",
   "execution_count": null,
   "id": "9a78e33c",
   "metadata": {},
   "outputs": [],
   "source": [
    "# Create a data-frame for dates\n",
    "# Generates the 31 days of January\n",
    "# The time will be shown as \"year-month-day\" format\n",
    "d = pd.date_range('20210101', periods=31)\n",
    "d"
   ]
  },
  {
   "cell_type": "markdown",
   "id": "a4b19860",
   "metadata": {},
   "source": [
    "### Access the Pandas Series"
   ]
  },
  {
   "cell_type": "code",
   "execution_count": null,
   "id": "717f70c1",
   "metadata": {},
   "outputs": [],
   "source": [
    "# Pandas series can only be accessible if the series is comprised of dictionary;\n",
    "# Otherwise onyl the the \"values\" of a series can be accessed.\n",
    "# d.keys"
   ]
  },
  {
   "cell_type": "code",
   "execution_count": null,
   "id": "e882d46f",
   "metadata": {},
   "outputs": [],
   "source": [
    "d.values"
   ]
  },
  {
   "cell_type": "markdown",
   "id": "488a0d4d",
   "metadata": {},
   "source": [
    "## DataFrame (Intro)\n",
    "> Create a Dataframe using Numpy Array (**date_range**)"
   ]
  },
  {
   "cell_type": "markdown",
   "id": "4101a0a8",
   "metadata": {},
   "source": [
    "### Dataframe Structure\n",
    "\n",
    "`dataframe(data, index, columns, dtype, copy)`\n",
    "\n",
    "The **data** param can be *ndarray (structured or homogeneous), Iterable, dict, or DataFrame.* <br/>\n",
    "The **index** param will specify the indexing of the rows. <br/>\n",
    "The **columns** param will specify the columns of the dataframe. <br/>\n",
    "The **dtype** param will specify the Data type to force. Only a single dtype is allowed. If None, infer. <br/>\n",
    "The **copy** param will create a copy of the input array before generating the **datafrane**, & use that copy instead of the root array as the **data**. <br/>\n",
    "\n",
    "`np.random.randn(row, col)`"
   ]
  },
  {
   "cell_type": "markdown",
   "id": "b9bd3808",
   "metadata": {},
   "source": [
    "**New DataFrame (DataFrame-1)**"
   ]
  },
  {
   "cell_type": "code",
   "execution_count": null,
   "id": "7c6629e4",
   "metadata": {
    "scrolled": true
   },
   "outputs": [],
   "source": [
    "# Random number dataframe\n",
    "# Create a dataframe which is consisted of 31 rows * 4 coulmns of random number\n",
    "df = pd.DataFrame(np.random.randn(31, 4), index=d, columns=['Rand-1', 'Rand-2', 'Rand-3', 'Rand-4'], dtype=np.float64)\n",
    "# df.set_index('Index')\n",
    "print('Data-types of dataframe: %s' % df.dtypes)\n",
    "df #show all the 31 values"
   ]
  },
  {
   "cell_type": "markdown",
   "id": "737bf909",
   "metadata": {},
   "source": [
    "**New DataFrame (DataFrame-2)** <br/>\n",
    "Create a new Dataframe comprised of all the data-types in Pandas"
   ]
  },
  {
   "cell_type": "code",
   "execution_count": 10,
   "id": "94d98994",
   "metadata": {
    "scrolled": true
   },
   "outputs": [
    {
     "data": {
      "text/html": [
       "<div>\n",
       "<style scoped>\n",
       "    .dataframe tbody tr th:only-of-type {\n",
       "        vertical-align: middle;\n",
       "    }\n",
       "\n",
       "    .dataframe tbody tr th {\n",
       "        vertical-align: top;\n",
       "    }\n",
       "\n",
       "    .dataframe thead th {\n",
       "        text-align: right;\n",
       "    }\n",
       "</style>\n",
       "<table border=\"1\" class=\"dataframe\">\n",
       "  <thead>\n",
       "    <tr style=\"text-align: right;\">\n",
       "      <th></th>\n",
       "      <th>A</th>\n",
       "      <th>B</th>\n",
       "      <th>C</th>\n",
       "    </tr>\n",
       "  </thead>\n",
       "  <tbody>\n",
       "    <tr>\n",
       "      <th>0</th>\n",
       "      <td>1</td>\n",
       "      <td>2022-03-31</td>\n",
       "      <td>12</td>\n",
       "    </tr>\n",
       "    <tr>\n",
       "      <th>1</th>\n",
       "      <td>2</td>\n",
       "      <td>2022-03-31</td>\n",
       "      <td>12</td>\n",
       "    </tr>\n",
       "    <tr>\n",
       "      <th>2</th>\n",
       "      <td>3</td>\n",
       "      <td>2022-03-31</td>\n",
       "      <td>12</td>\n",
       "    </tr>\n",
       "    <tr>\n",
       "      <th>3</th>\n",
       "      <td>4</td>\n",
       "      <td>2022-03-31</td>\n",
       "      <td>12</td>\n",
       "    </tr>\n",
       "  </tbody>\n",
       "</table>\n",
       "</div>"
      ],
      "text/plain": [
       "   A          B   C\n",
       "0  1 2022-03-31  12\n",
       "1  2 2022-03-31  12\n",
       "2  3 2022-03-31  12\n",
       "3  4 2022-03-31  12"
      ]
     },
     "execution_count": 10,
     "metadata": {},
     "output_type": "execute_result"
    }
   ],
   "source": [
    "df_new = pd.DataFrame({\n",
    "    'A': [1,2,3,4],\n",
    "    'B': pd.Timestamp('20220331'),\n",
    "    'C': pd.Series(12, index=range(4), dtype='int64'),\n",
    "})\n",
    "df_new"
   ]
  },
  {
   "cell_type": "code",
   "execution_count": 6,
   "id": "a07a9b5f",
   "metadata": {},
   "outputs": [
    {
     "data": {
      "text/plain": [
       "A             int64\n",
       "B    datetime64[ns]\n",
       "dtype: object"
      ]
     },
     "execution_count": 6,
     "metadata": {},
     "output_type": "execute_result"
    }
   ],
   "source": [
    "df_new.dtypes"
   ]
  },
  {
   "cell_type": "markdown",
   "id": "7df5f30f",
   "metadata": {},
   "source": [
    "# View the Data of a DataFrame\n",
    "#### Tail & Head"
   ]
  },
  {
   "cell_type": "code",
   "execution_count": null,
   "id": "0e7b06d3",
   "metadata": {},
   "outputs": [],
   "source": [
    "# Show the first 5 rows of the dataframe\n",
    "df.head()"
   ]
  },
  {
   "cell_type": "code",
   "execution_count": null,
   "id": "01c9c016",
   "metadata": {},
   "outputs": [],
   "source": [
    "# Show the last 5 rows of the dataframe\n",
    "df.tail()"
   ]
  },
  {
   "cell_type": "code",
   "execution_count": null,
   "id": "c9cad300",
   "metadata": {
    "scrolled": true
   },
   "outputs": [],
   "source": [
    "# Get all the random values of specific single column\n",
    "df['Rand-4'].head(n=6)"
   ]
  },
  {
   "cell_type": "markdown",
   "id": "aa37ed27",
   "metadata": {},
   "source": [
    "### Slice the rows of dataframe"
   ]
  },
  {
   "cell_type": "code",
   "execution_count": null,
   "id": "2a5d5c50",
   "metadata": {},
   "outputs": [],
   "source": [
    "# Slice the rows from 0 to 6 out of 31 rows\n",
    "df[0:6]"
   ]
  },
  {
   "cell_type": "code",
   "execution_count": null,
   "id": "11ccce15",
   "metadata": {},
   "outputs": [],
   "source": [
    "# View the index of the dataframe\n",
    "df.index"
   ]
  },
  {
   "cell_type": "code",
   "execution_count": null,
   "id": "8249eb89",
   "metadata": {},
   "outputs": [],
   "source": [
    "# View all the columns of the dataframe\n",
    "df.columns"
   ]
  },
  {
   "cell_type": "code",
   "execution_count": null,
   "id": "24c5b409",
   "metadata": {
    "scrolled": true
   },
   "outputs": [],
   "source": [
    "# Display the data-types of all the columns of the dataframe\n",
    "df.dtypes"
   ]
  },
  {
   "cell_type": "markdown",
   "id": "deec8318",
   "metadata": {},
   "source": [
    "#### Access a specific column of a dataframe (Type-1)\n",
    "> `df.columnName`   If the **columnName** is a single-worded column\n",
    "\n",
    "#### Access a specific column of a dataframe (Type-2)\n",
    "> `df[columnName]`   If the **columnName** is a multi-worded column"
   ]
  },
  {
   "cell_type": "code",
   "execution_count": null,
   "id": "b2d581d2",
   "metadata": {},
   "outputs": [],
   "source": [
    "\n",
    "df['Rand-1'].head()"
   ]
  },
  {
   "cell_type": "markdown",
   "id": "31dcb46b",
   "metadata": {},
   "source": [
    "## Numpy Representation of a dataframe\n",
    "\n",
    "> **An array which displays a nested array**\n",
    "\n",
    "It doesn't require *copying the data*, it's more preferred."
   ]
  },
  {
   "cell_type": "code",
   "execution_count": null,
   "id": "30243a2f",
   "metadata": {},
   "outputs": [],
   "source": [
    "df.to_numpy()"
   ]
  },
  {
   "cell_type": "markdown",
   "id": "c7fedaa3",
   "metadata": {},
   "source": [
    "## Fetch the first & last Row of a DataFrame"
   ]
  },
  {
   "cell_type": "markdown",
   "id": "c0ba1969",
   "metadata": {},
   "source": [
    "**New DataFrame (DataFrame-2)**"
   ]
  },
  {
   "cell_type": "code",
   "execution_count": null,
   "id": "4891bdd3",
   "metadata": {},
   "outputs": [],
   "source": [
    "def hRuler():\n",
    "    return print('%s' % ('/'*100))"
   ]
  },
  {
   "cell_type": "code",
   "execution_count": null,
   "id": "eb707cd9",
   "metadata": {
    "scrolled": true
   },
   "outputs": [],
   "source": [
    "# Create a datframe where the data will contain a dictionary & the dict will contain different types of data.\n",
    "# The datatypes insdie the dict are ordered as followed: \n",
    "# Series, pandas.Timestamp, pandas.Series (np.random.randn(4,1)), numpy.array(data=list), pandas.Categorical(), string\n",
    "data = {\n",
    "    'Series': [1,2,3,4],\n",
    "    'Pandas Timestamp': pd.Timestamp('20210901'),\n",
    "    'Pandas Series': pd.Series(np.random.randn(4), index=list(range(4)), dtype='int64'),\n",
    "    'Numpy Array': np.array(list(range(4)), dtype='int32'),\n",
    "    'Pandas Categorical': pd.Categorical(['True', 'True', 'False', 'True']),\n",
    "    'String': 'Elon',\n",
    "}\n",
    "df2 = pd.DataFrame(data)\n",
    "hRuler()\n",
    "print('%s Data Types %s' % (('*'*10), ('*'*10)))\n",
    "print(df2.dtypes)\n",
    "hRuler()\n",
    "print('%s First 3 Rows of the DataFrame %s' % (('*'*10), ('*'*10)))\n",
    "print(df2.head(n=3))\n",
    "hRuler()\n",
    "print('%s Last 2 Rows of the DataFrame %s' % (('*'*10), ('*'*10)))\n",
    "df2.tail(n=2)"
   ]
  },
  {
   "cell_type": "code",
   "execution_count": null,
   "id": "a08cc1d5",
   "metadata": {
    "scrolled": true
   },
   "outputs": [],
   "source": [
    "# Get all the random values of specific single column ('Pandas Series')\n",
    "df2['Pandas Series']"
   ]
  },
  {
   "cell_type": "code",
   "execution_count": null,
   "id": "39c500f9",
   "metadata": {},
   "outputs": [],
   "source": [
    "# Display all the index-rows of the dataframe ('df')\n",
    "df2.index"
   ]
  },
  {
   "cell_type": "code",
   "execution_count": null,
   "id": "34517c7b",
   "metadata": {},
   "outputs": [],
   "source": [
    "# sort the values of specific columns & display the last nth value\n",
    "df.sort_values(by='Rand-4', ascending=False).tail(n=10)"
   ]
  },
  {
   "cell_type": "markdown",
   "id": "ca9ecfb1",
   "metadata": {},
   "source": [
    "### Dataframe Describe\n",
    "> Generate descriptive statistics. It displays the **count**, mean, std (standard deviation), min, max, (25%, 50%, 75%) of the value of each row.\n",
    "\n",
    "`DataFrame.describe(percentiles=None, include=None, exclude=None, datetime_is_numeric=False)`"
   ]
  },
  {
   "cell_type": "code",
   "execution_count": null,
   "id": "8b7c3661",
   "metadata": {},
   "outputs": [],
   "source": [
    "df2.describe()"
   ]
  },
  {
   "cell_type": "markdown",
   "id": "659618d2",
   "metadata": {},
   "source": [
    "### DataFrame Loc (Location)\n",
    "\n",
    "> Access a group of rows and columns by label(s) or a boolean array.\n",
    "\n",
    ">  Using the **loc** & **iloc**, we can practically do any data-selection-task on Pandas dataframes. <br/>\n",
    "\"**loc**\" is label-based, which means that we have to specify the name of the rows and columns that we need to filter out from a dataframe.\n",
    "\n",
    "`dataFrame.loc[row, columns]`\n",
    "\n",
    "*Lesson Ref:  https://www.youtube.com/watch?v=sqXiwHUvuh0*\n",
    "\n",
    "**DataFrame.at (nth row) or (x:y row range)**: Access a single value for a row label pair. Accepts the 'list-range'. We can add *if-conditions* while printing out the rows. <br/>\n",
    "**DataFrame.columns (nth column) or (x:y column range)**: Access a single value for a column label pair. Accepts the 'list-range'. <br/>"
   ]
  },
  {
   "cell_type": "code",
   "execution_count": null,
   "id": "71d36150",
   "metadata": {},
   "outputs": [],
   "source": [
    "# Import a new dataframe (Imported for a GeeksforGeeks)\n",
    "df3 = pd.read_csv('../DataSets/employees_geeksforgeeks.csv')\n",
    "df3.head()"
   ]
  },
  {
   "cell_type": "code",
   "execution_count": null,
   "id": "bfcbf1f3",
   "metadata": {},
   "outputs": [],
   "source": [
    "# Prints the first 11 rows of dataframe, the 'index' column is type 'integer' & starting from 0-n.\n",
    "df3.loc[0:10]"
   ]
  },
  {
   "cell_type": "markdown",
   "id": "042fbd9c",
   "metadata": {},
   "source": [
    "#### Multi access by label into the dataframe using \"loc\""
   ]
  },
  {
   "cell_type": "code",
   "execution_count": null,
   "id": "019961b3",
   "metadata": {},
   "outputs": [],
   "source": [
    "# Print the first row & all of its columns. Basically it's printing out all the data of a single row.\n",
    "# df.loc[at, :]; here the ':' means from 0th to nth column\n",
    "df3.loc[0, :] # Prints the data of 0th row"
   ]
  },
  {
   "cell_type": "code",
   "execution_count": null,
   "id": "2a9f5937",
   "metadata": {},
   "outputs": [],
   "source": [
    "# Print an explicitly-mentioned (static) list of rows (0th, 3rd row) including all the columns\n",
    "df3.loc[[0,3], :]"
   ]
  },
  {
   "cell_type": "code",
   "execution_count": null,
   "id": "ae56b18b",
   "metadata": {
    "scrolled": true
   },
   "outputs": [],
   "source": [
    "# Print 0th to 6th rows using list-range of the dataframe including all the columns\n",
    "# NB: when we are explicitly mentioning the end-row-number using the \"loc\", it doesn't ignore the 'nth' row like the \"iloc\"\n",
    "df3.loc[0:6, :]"
   ]
  },
  {
   "cell_type": "code",
   "execution_count": null,
   "id": "1cc385cd",
   "metadata": {},
   "outputs": [],
   "source": [
    "# Pirnts the 0th to 10th row of the 'Gender' column. Thus it prints 11 rows\n",
    "df3.loc[0:10, 'Gender']"
   ]
  },
  {
   "cell_type": "code",
   "execution_count": null,
   "id": "23ee86f1",
   "metadata": {},
   "outputs": [],
   "source": [
    "# Pirnts the 0th to 5th row of the ['First Name', 'Gender', 'Start Date'] column. Thus it prints 6 rows\n",
    "df3.loc[0:5, ['First Name', 'Gender', 'Start Date']]"
   ]
  },
  {
   "cell_type": "code",
   "execution_count": null,
   "id": "981ae152",
   "metadata": {
    "scrolled": true
   },
   "outputs": [],
   "source": [
    "# Prints 6 rows of DataFrame from column range from \"Gender\" to \"Senior Management\". Here, we don't need to put the column names in a list, means inside the \"[]\" brackets.\n",
    "df3.loc[0:5, 'Gender':'Senior Management']"
   ]
  },
  {
   "cell_type": "code",
   "execution_count": null,
   "id": "f1e29ee0",
   "metadata": {},
   "outputs": [],
   "source": [
    "# Print 6 rows of all the male employees including the columns (\"First-Name\" to \"Senior Management\")\n",
    "df3.loc[df3['Gender'] == 'Male', 'First Name':'Senior Management'].head(n=5)"
   ]
  },
  {
   "cell_type": "code",
   "execution_count": null,
   "id": "afcb8395",
   "metadata": {
    "scrolled": true
   },
   "outputs": [],
   "source": [
    "# Identify the \"Last Login Time\" of the 6th row in dataframe \"df3\".\n",
    "# Exact location of x-axis & y-axis.\n",
    "df3.at[5, 'Last Login Time']"
   ]
  },
  {
   "cell_type": "markdown",
   "id": "71ac1c20",
   "metadata": {},
   "source": [
    "### DataFrame iLoc (Location)\n",
    "\n",
    "> Purely integer-location based indexing for selection by position.\n",
    "\n",
    "`dataFrame.iloc[row-index-val, columns-index-val]`"
   ]
  },
  {
   "cell_type": "code",
   "execution_count": null,
   "id": "1c5a4cab",
   "metadata": {},
   "outputs": [],
   "source": [
    "# In \"iloc\", the 'nth' index of the column is ignored while using \"iloc\".\n",
    "# Prints the first 5 rows including the columns from \"First Name\" to \"Salary\"\n",
    "df3.iloc[0:5, 0:5]"
   ]
  },
  {
   "cell_type": "code",
   "execution_count": null,
   "id": "8a1637bf",
   "metadata": {},
   "outputs": [],
   "source": [
    "# View the 4th (where the first-name is 'Larry') row of dataframe \"df3\" using 'iloc'. For declaring row, 'iloc' expects the exact row-indexing.\n",
    "df3.iloc[4]"
   ]
  },
  {
   "cell_type": "code",
   "execution_count": null,
   "id": "3f9ebb92",
   "metadata": {
    "scrolled": true
   },
   "outputs": [],
   "source": [
    "# Prints the first 5 rows of the dataframe \"df3\"\n",
    "df3.head()"
   ]
  },
  {
   "cell_type": "code",
   "execution_count": null,
   "id": "44bb9aa3",
   "metadata": {},
   "outputs": [],
   "source": [
    "# Prints the first 11 rows of the 3rd column-index (\"Last Login Time\t\" column)\n",
    "df3.iloc[:10, 3]"
   ]
  },
  {
   "cell_type": "markdown",
   "id": "18282d29",
   "metadata": {},
   "source": [
    "## Boolean Indexing (Applying conditions while viewing data from dataframe)"
   ]
  },
  {
   "cell_type": "code",
   "execution_count": null,
   "id": "7a4bae9c",
   "metadata": {
    "scrolled": true
   },
   "outputs": [],
   "source": [
    "# Boolean Indexing: View the \"Salary\" column value where Salary < 90000\n",
    "# NB: It's an annual-salary.\n",
    "df3[df3['Salary'] < 90000]"
   ]
  },
  {
   "cell_type": "markdown",
   "id": "2daa7ff0",
   "metadata": {},
   "source": [
    "### Multiple conditions while using the 'loc' method to view data.\n",
    "\n",
    "**Ref Link:**\n",
    "- https://www.kite.com/python/answers/how-to-select-rows-by-multiple-label-conditions-with-pandas-loc-in-python\n",
    "- https://towardsdatascience.com/conditional-selection-and-assignment-with-loc-in-pandas-2a5d17c7765b"
   ]
  },
  {
   "cell_type": "code",
   "execution_count": null,
   "id": "f96b6622",
   "metadata": {
    "scrolled": true
   },
   "outputs": [],
   "source": [
    "# Prints the first 10 rows of those whose 'Salary' is greater than 100000.\n",
    "df3.loc[(df3['Salary'] > 100000) & (df3['Senior Management'] == True)].head(n=10)"
   ]
  },
  {
   "cell_type": "markdown",
   "id": "8deca416",
   "metadata": {},
   "source": [
    "## Handling the missing data inside a DataFrame\n",
    "\n",
    "**Support Ref Link: https://www.youtube.com/watch?v=uDr67HBIPz8&t=1s**\n",
    "\n",
    "> Missing data or null values in a data can create a lot of **ruckus/ disturbance** in other stages of data science life cycle, it's very important to deal with the missing data in an effective manner. Sometimes our datasets contain some empty cells which are called as \"null values\".\n",
    "\n",
    "### We cannot provide \"null values\" to our machine learning model.\n",
    "#### So these null-values are required to be handled with some calues, which can be,\n",
    "- Drop such rows.\n",
    "- Either replace them\n",
    "\n",
    "- Pandas primarily uses **np.NaN** to represent missing data."
   ]
  },
  {
   "cell_type": "markdown",
   "id": "9e9df740",
   "metadata": {},
   "source": [
    "#### Import a new DataFrame (for handling the missing data inside a DataFrame)\n",
    "\n",
    "> Handled in another notebook. **Notebook Link:** http://localhost:8888/notebooks/Jupyter%20Notebooks/Notebooks/Basics%20of%20Pandas/Handling%20Null%20Values.ipynb\n"
   ]
  },
  {
   "cell_type": "code",
   "execution_count": null,
   "id": "97bc49f2",
   "metadata": {},
   "outputs": [],
   "source": [
    "# Re-index, which alows us to change, add, delete data of a specified axis.\n",
    "# Take a copy of \"df3\"\n",
    "df4 = df3.reindex()"
   ]
  },
  {
   "cell_type": "code",
   "execution_count": null,
   "id": "13c86457",
   "metadata": {},
   "outputs": [],
   "source": []
  },
  {
   "cell_type": "markdown",
   "id": "a1b4cae8",
   "metadata": {},
   "source": [
    "## Numpy Array\n",
    "\n",
    "`numpy.array(object, dtype=None, *, copy=True, order='K', subok=False, ndmin=0, like=None)`"
   ]
  },
  {
   "cell_type": "code",
   "execution_count": null,
   "id": "d1139f21",
   "metadata": {},
   "outputs": [],
   "source": []
  },
  {
   "cell_type": "code",
   "execution_count": null,
   "id": "01d341db",
   "metadata": {},
   "outputs": [],
   "source": []
  },
  {
   "cell_type": "code",
   "execution_count": null,
   "id": "38e1ca88",
   "metadata": {},
   "outputs": [],
   "source": []
  }
 ],
 "metadata": {
  "kernelspec": {
   "display_name": "Python 3 (ipykernel)",
   "language": "python",
   "name": "python3"
  },
  "language_info": {
   "codemirror_mode": {
    "name": "ipython",
    "version": 3
   },
   "file_extension": ".py",
   "mimetype": "text/x-python",
   "name": "python",
   "nbconvert_exporter": "python",
   "pygments_lexer": "ipython3",
   "version": "3.9.7"
  }
 },
 "nbformat": 4,
 "nbformat_minor": 5
}
